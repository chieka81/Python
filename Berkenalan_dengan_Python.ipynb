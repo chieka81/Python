{
  "nbformat": 4,
  "nbformat_minor": 0,
  "metadata": {
    "colab": {
      "provenance": []
    },
    "kernelspec": {
      "name": "python3",
      "display_name": "Python 3"
    },
    "language_info": {
      "name": "python"
    }
  },
  "cells": [
    {
      "cell_type": "markdown",
      "source": [
        "***Python*** adalah bahasa pemrograman yang diciptakan oleh [*Guido van Rossum*](https://en.wikipedia.org/wiki/Guido_van_Rossum), dan pertama kali dikenalkan di tahun 1991. Python merupakan bahasa pemrograman yang mudah dipelajari, karena sintaksnya cukup sederhana, selain itu bersifat open source dan free.\n",
        "\n",
        "\n",
        "\n",
        "\n",
        "\n"
      ],
      "metadata": {
        "id": "Ek_30PuJxhQZ"
      }
    },
    {
      "cell_type": "markdown",
      "source": [
        "Python dilengkapi dengan banyak *library* (kumpulan kode), yang dapat digunakan berulang kali dalam program yang berbeda. *Library* ini yang membuat Python nyaman untuk digunakan oleh para programmer.\n",
        "Python sendiri memiliki lebih dari 140.000 *library*. Dan berikut ini, *library* yang umum digunakan.\n",
        "\n",
        "*   **Pandas**. Library ini bertujuan untuk manipulasi dan analisi data dalam bentuk tabular. Data yang dapat diolah bisa dari berbagai sumber : CSV, TSV, Excel SQL Queries, Google Bigquery, SAS, Stata, SPSS, dan sebagainya.\n",
        "*   **Numpy**. Library ini digunakan untuk perhitungan matematis, dan memiliki fungsi aljabar linier.\n",
        "*   **TensorFlow**. Library yang digunakan untuk Deep Learning yang dikembangkan oleh Tim Google Brain. Seiring perkembangannya, digunakan untuk mengembangkan aplikasi berbasis *machine learning*.\n",
        "*   **Scipy**.  Merupakan library yang melengkapy Numpy, dan\n",
        "digunakan untuk masalah matematika, sains, dan teknik yang kompleks.\n",
        "*   **MatPlotLib**. Digunakan untuk visualisasi dari data ke dalam berbagai bentuk grafik 2D atau 3D, seperti line chart, bar chart, histogram, polar chart, error bar plot, dan jenis grafik lainnya.\n",
        "*   **Sciki-learn**. Digunakan untuk menghasilkan model prediktif dengan menggunakan machine learning.\n",
        "*   **Plotly**. Plotly adalah platform analitik dan grafik kolaboratif berbasis web. Library ini cocok untuk pengembangan Machine Learning, Data Science, dan operasi terkait Artificial Intelligence (AI).\n",
        "*   **Seaborn**. Merupakan library yang dibuat dari matplotlib yang ditujukan oleh visualisasi grafik statistik dengan warna yang menawan, dan terintegrasi dengan baik dengan pandas.\n",
        "\n",
        "\n",
        "\n",
        "\n",
        "\n",
        "\n"
      ],
      "metadata": {
        "id": "gCAUy8Ah0jAS"
      }
    },
    {
      "cell_type": "markdown",
      "source": [
        "# **STRUKTUR BAHASA PYTHON**\n",
        "\n",
        "\n",
        "\n",
        "1.   **Statements**. Instruksi yang diberikan secara baris per baris untuk dijalankan oleh program.\n",
        "\n",
        "2.   **Variables**. Pengidentifikasian yang digunakan untuk menampung sebuah data atau informasi.\n",
        "\n",
        "3.   **Literals**. Data atau informasi yang digunakan untuk mengisi suatu variabel.\n",
        "\n",
        "4.   **Operators**. Simbol-simbol yang digunakan untuk mengubah nilai dari satu variabel dengan melibatkan satu atau lebih variabel dan literal.\n",
        "\n",
        "5.   **Reserved Words**. Kumpulan kata-kata yang memiliki makna khusus dalam bahasa pemrograman Python dan tidak dapat digunakan untuk variables dan literals.\n",
        "\n",
        "6.   **Whitespace**. Pada bahasa Python, spasi dan tab memiliki makna khusus untuk menandai serangkaian blok dalam kode Python.\n",
        "\n",
        "7.   **Comments**. Merupakan sekumpulan teks yang dituliskan di dalam sebuah program yang tidak akan mempengaruhi hasil dari sebuah program.\n",
        "\n",
        "\n",
        "\n",
        "\n"
      ],
      "metadata": {
        "id": "a2rAVMbt5ty5"
      }
    },
    {
      "cell_type": "markdown",
      "source": [
        "================================================================\n",
        "\n",
        "\n"
      ],
      "metadata": {
        "id": "fE0oTUZb8XA-"
      }
    },
    {
      "cell_type": "markdown",
      "metadata": {
        "id": "tzF4wZeK6wT6"
      },
      "source": [
        "\n",
        "<br>\n",
        "<a href=\"https://www.linkedin.com/in/fransisca-panggabean-270ab83/\"><img src=\"https://img.shields.io/badge/-© 2024 chieka-417DAC?style=for-the-badge&logoColor=white\"/></a>"
      ]
    }
  ]
}
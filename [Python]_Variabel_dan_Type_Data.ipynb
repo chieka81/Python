{
  "nbformat": 4,
  "nbformat_minor": 0,
  "metadata": {
    "colab": {
      "provenance": []
    },
    "kernelspec": {
      "name": "python3",
      "display_name": "Python 3"
    },
    "language_info": {
      "name": "python"
    }
  },
  "cells": [
    {
      "cell_type": "markdown",
      "source": [
        "Selamat datang di e-book ini. Aku menulis buku ini, bertujuan untuk membagikan catatanku selama pembelajaran Python. Jadi, bahasa-nya mungkin akan amat sangat 'aku' sekali. Karena, menurutku, catatan belajar kita itu, harus benar-benar kita pahami, walaupun dengan bahasa yang amat sangat sederhana. Tapi, nggak sampai kabur-kaburan dari konteksnya... Gak usah panjang-panjang perkenalannya, aku tau, kamu gak mau rugi bayar e-book ini cuman buat baca cuitan aku. Selamat membaca, semoga bermanfaat ya."
      ],
      "metadata": {
        "id": "I6txPzeOjiKQ"
      }
    },
    {
      "cell_type": "markdown",
      "source": [
        "Oh iya, tools yang aku pakai selama belajar Python ini adalah : visual studio code (Cara installnya gampang bisa dilihat video tutorial di youtube, atau bisa juga dengan google colab (lagi-lagi hratesh dong) 😁"
      ],
      "metadata": {
        "id": "zdZaTEThkakK"
      }
    },
    {
      "cell_type": "markdown",
      "source": [
        "# <font color='#87CEEB'> **1. DASAR PYTHON**</font>\n"
      ],
      "metadata": {
        "id": "FH3cmYwJk_g1"
      }
    },
    {
      "cell_type": "markdown",
      "source": [
        "Sebagai perkenalan, apa sih Python itu? Python adalah salah satu bahasa pemrograman tingkat tinggi yang berorientasi objec, yang dapat melakukan eksekusi sejumlah instruksi secara langsung. Bahasa pemrograman Python ini, paling mudah dipahami (whatt??!!??😒). Python dibuat oleh seorang programmer asal Belanda bernama Guido Van Rossum."
      ],
      "metadata": {
        "id": "xWwjtDmelFWW"
      }
    },
    {
      "cell_type": "markdown",
      "source": [
        "Sebelum lanjut masuk ke dasar Pyhton itu sendiri, kita harus tahu dulu, seperti apa yang dimaksud dengan syntax dan comment di dalam Python."
      ],
      "metadata": {
        "id": "tHDEIHbsuKZ_"
      }
    },
    {
      "cell_type": "markdown",
      "source": [
        "**Syntax**\n",
        "\n",
        "---\n",
        "\n",
        "Seperti yang sudah diketahui, Python bisa di-eksekusi dengan cara menulis secara langsung di Command Line. Contoh:"
      ],
      "metadata": {
        "id": "TNU4c2rYue4E"
      }
    },
    {
      "cell_type": "code",
      "source": [
        "print(\"Hari ini, aku harus sedikit lebih jago tentang Python\")"
      ],
      "metadata": {
        "colab": {
          "base_uri": "https://localhost:8080/"
        },
        "id": "nlKinLDCu3Qb",
        "outputId": "f89d9f3f-79bf-4b60-b1fd-753a1e5e0749"
      },
      "execution_count": 2,
      "outputs": [
        {
          "output_type": "stream",
          "name": "stdout",
          "text": [
            "Hari ini, aku harus sedikit lebih jago tentang Python\n"
          ]
        }
      ]
    },
    {
      "cell_type": "code",
      "source": [
        "print(\"Bulan februari nanti, Linkin Park manggung di Jakarta,loh...\")"
      ],
      "metadata": {
        "colab": {
          "base_uri": "https://localhost:8080/"
        },
        "id": "veUKoR-3vNha",
        "outputId": "70e7e36d-d877-4bec-86f2-479bd3a2997c"
      },
      "execution_count": 3,
      "outputs": [
        {
          "output_type": "stream",
          "name": "stdout",
          "text": [
            "Bulan februari nanti, Linkin Park manggung di Jakarta,loh...\n"
          ]
        }
      ]
    },
    {
      "cell_type": "markdown",
      "source": [
        "Di dalam Pyhton, ada yang disebut dengan *indentation*, atau gampangnya spasi/tab. Indentation dalam Python ini penting, karena menandakan bagian dari blok suatu kode. Contohnya:"
      ],
      "metadata": {
        "id": "8y3EoM3svVwz"
      }
    },
    {
      "cell_type": "code",
      "source": [
        "if 10 > 9:\n",
        "  print('10 lebih besar dari 9')"
      ],
      "metadata": {
        "colab": {
          "base_uri": "https://localhost:8080/"
        },
        "id": "GE_-SIFxwLkt",
        "outputId": "fd7bef10-107c-4bc3-bd39-408d69f22436"
      },
      "execution_count": 4,
      "outputs": [
        {
          "output_type": "stream",
          "name": "stdout",
          "text": [
            "10 lebih besar dari 9\n"
          ]
        }
      ]
    },
    {
      "cell_type": "code",
      "source": [
        "# blok pertama\n",
        "if 10 < 9:\n",
        "  print('10 lebih kecil dari 9')\n",
        "\n",
        "# blok kedua\n",
        "else:\n",
        "  print('10 lebih besar dari 9')"
      ],
      "metadata": {
        "colab": {
          "base_uri": "https://localhost:8080/"
        },
        "id": "MFnJezQiwg9n",
        "outputId": "2422cfe0-12ae-41bc-86f6-7e69df2812a7"
      },
      "execution_count": 8,
      "outputs": [
        {
          "output_type": "stream",
          "name": "stdout",
          "text": [
            "10 lebih besar dari 9\n"
          ]
        }
      ]
    },
    {
      "cell_type": "markdown",
      "source": [
        "Selanjutnya, kita kenalan dengan *comment*. Kadang, kita perlu menambahkan comment di dalam kode kita, supaya kita ingat, apa tujuan dari kode itu. Untuk itu, kita bisa menambahkan tanda **#**. Dengan adanya tanda ini, Python tidak akan menjalankan comment atau code. contoh:"
      ],
      "metadata": {
        "id": "CsTs_gY4xQyg"
      }
    },
    {
      "cell_type": "code",
      "source": [
        "# print('Kode ini adalah contoh dari comment)"
      ],
      "metadata": {
        "id": "E0jA0Xh3x8wq"
      },
      "execution_count": 9,
      "outputs": []
    },
    {
      "cell_type": "markdown",
      "source": [
        "Sudah selesai dengan syntax dan comment dalam Python, kita lanjut ke materi selanjutnya."
      ],
      "metadata": {
        "id": "P7Hr_CiVyMfz"
      }
    },
    {
      "cell_type": "markdown",
      "source": [
        "# <font color='#D8BFD8'>**1.1 Variabel dan Type Data**</font>\n",
        "\n",
        "\n"
      ],
      "metadata": {
        "id": "wsKjHQJhmfUq"
      }
    },
    {
      "cell_type": "markdown",
      "source": [
        "a). <font color='#D8BFD8'>**VARIABEL**</font>. Di Python, variabel adalah tempat untuk menyimpan data.\n",
        "Contohnya:"
      ],
      "metadata": {
        "id": "2t0Tm6qImnTv"
      }
    },
    {
      "cell_type": "code",
      "source": [
        "nama = 'Agung'\n",
        "umur = 20\n",
        "tinggi = 170.5\n",
        "is_handsome = True"
      ],
      "metadata": {
        "id": "PGryAhKJmzLf"
      },
      "execution_count": null,
      "outputs": []
    },
    {
      "cell_type": "markdown",
      "source": [
        "Dari contoh diatas:\n",
        "<font color='#66CDAA'>nama, umur, tinggi</font> dan <font color='#66CDAA'>is_handsome</font> ini disebut variabel.\n",
        "\n",
        "\n",
        "*    <font color='#66CDAA'>**nama**</font> adalah variabel dengan data berupa string. Ditandai dengan tanda kutip ('')\n",
        "*   <font color='#66CDAA'>**umur**</font> adalah variabel dengan data berupa angka bulat (integer)\n",
        "\n",
        "*   <font color='#66CDAA'>**tinggi**</font> adalah variabel dengan data berupa angka desimal (float)\n",
        "*  <font color='#66CDAA'>**is_handsome**</font> adalah variabel untuk data berupa boolean (True/False atau 1/0)\n",
        "\n",
        "\n",
        "\n",
        "\n",
        "\n",
        "\n",
        "\n",
        "\n"
      ],
      "metadata": {
        "id": "7Ws295qJnUkL"
      }
    },
    {
      "cell_type": "markdown",
      "source": [
        "Catatan :\n",
        "\n",
        "\n",
        "1.  Python akan otomatis mengenali type data yang kita input.\n",
        "2.  Tanda kutip yang menandai data string, bisa menggunakan tanda kutip 1 ataupun 2. Contoh : 'Agung', \"Ayu\".\n",
        "\n"
      ],
      "metadata": {
        "id": "NklXaJ5goWXr"
      }
    },
    {
      "cell_type": "markdown",
      "source": [
        "b). <font color='#D8BFD8'>**TYPE DATA**</font>. Di Python, ada berbagai tipe data, seperti berikut ini:"
      ],
      "metadata": {
        "id": "J5DphThx4MQ4"
      }
    },
    {
      "cell_type": "markdown",
      "source": [
        "*  <font color='#66CDAA'>Text type :</font> str\n",
        "    ```python\n",
        "    contoh :\n",
        "    *   \"aku sedang belajar Python\"\n",
        "    *   'Sebentar lagi tahun 2025'\n",
        "    ```"
      ],
      "metadata": {
        "id": "l-PQ2y9dBcU3"
      }
    },
    {
      "cell_type": "markdown",
      "source": [
        "*   <font color='#66CDAA'>Numeric type :</font> int, float, complex\n",
        "    ```python\n",
        "    contoh :\n",
        "    *   angka 2, angka 11 atau angka 1979 adalah contoh integer (angka bulat, tanpa desimal)\n",
        "    *   angka 9.8, angka 7.0, atau angka 2.5 adalah contoh float (angka dengan desimal\n",
        "    *   angka 3 + 2j, angka 10e - 40j adalah contoh angka complex.\n",
        "        Angka complex ini adalah gabungan dari bilangan riil dan bilangan imajiner\n",
        "    ```"
      ],
      "metadata": {
        "id": "QFyxJoYlBlkS"
      }
    },
    {
      "cell_type": "markdown",
      "source": [
        "*  <font color='#66CDAA'>Sequence type :</font> list, tuple, range\n",
        "    ```python\n",
        "       * list adalah tipe data koleksi yang umum digunakan dalam python.\n",
        "         contoh: ['xyz', 0211, 19.79]\n",
        "       * tuple juga merupakan tipe data koleksi.\n",
        "         contoh: (1, 2, 3) atau (3.14, 5, 'Agung)\n",
        "       * range\n",
        "         contoh: range(5) hasilnya adalah : 0,1,2,3,4"
      ],
      "metadata": {
        "id": "aXbW5XpKB8MC"
      }
    },
    {
      "cell_type": "markdown",
      "source": [
        "\n",
        "*  <font color='#66CDAA'>Mapping type :</font> dict\n",
        "\n",
        "    Tipe data dict (atau dictionary) ini adalah struktur data yang dapat menyimpan dan mengelola data dalam bentuk pasangan kunci-nilai (key-value pairs). Kita akan pelajari ini, di materi tersendiri.. 😅\n",
        "\n",
        "*   <font color='#66CDAA'>Set type :</font> set, frozenset\n",
        "\n",
        "    Tipe data set maupun frozenset adalah tipe data kolektif yang digunakan untuk menyimpan banyak nilai dalam 1 variabel. 2 data ini juga akan dipelajari di materi tersendiri\n",
        "\n",
        "\n",
        "*   <font color='#66CDAA'>Boolean type :</font> bool\n",
        "    \n",
        "    Seperti yang sudah kita ketahui, tipe data boolean ini adalah tipe data yang hanya memiliki dua nilai, yaitu true dan false, atau 1 dan 0\n",
        "\n",
        "\n",
        "*   <font color='#66CDAA'>Binary type :</font> bytes, bytearray, memoryview\n",
        "\n",
        "    Data Binary ini adalah tipe data yang digunakan untuk bekerja dengan data biner dan tampilan memori dari data biner tersebut.\n",
        "\n",
        "\n",
        "*   <font color='#66CDAA'>None type :</font> NoneType\n",
        "\n",
        "    Tipe data ini adalah data yang digunakan untuk menunjukkan bahwa suatu variabel atau objek tidak memiliki nilai\n",
        "\n",
        "\n",
        "\n",
        "\n",
        "\n",
        "\n",
        "\n"
      ],
      "metadata": {
        "id": "E9iIFZzJ69vt"
      }
    }
  ]
}